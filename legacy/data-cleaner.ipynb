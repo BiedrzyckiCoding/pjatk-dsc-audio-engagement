{
 "cells": [
  {
   "cell_type": "code",
   "execution_count": 35,
   "id": "initial_id",
   "metadata": {
    "ExecuteTime": {
     "end_time": "2025-10-15T13:46:37.560779Z",
     "start_time": "2025-10-15T13:46:37.553919Z"
    },
    "collapsed": true
   },
   "outputs": [],
   "source": [
    "import pandas as pd\n",
    "from pathlib import Path\n",
    "\n",
    "\n",
    "INPUT_CSV = Path(r\"data/train.csv\")"
   ]
  },
  {
   "cell_type": "markdown",
   "id": "adfdd75e6c24ba6a",
   "metadata": {},
   "source": [
    "# Tabel schema"
   ]
  },
  {
   "cell_type": "code",
   "execution_count": 36,
   "id": "fa2c2f3019624e81",
   "metadata": {
    "ExecuteTime": {
     "end_time": "2025-10-15T13:46:38.101142Z",
     "start_time": "2025-10-15T13:46:37.573767Z"
    }
   },
   "outputs": [
    {
     "name": "stdout",
     "output_type": "stream",
     "text": [
      "id                               int64\n",
      "Podcast_Name                    object\n",
      "Episode_Title                   object\n",
      "Episode_Length_minutes         float64\n",
      "Genre                           object\n",
      "Host_Popularity_percentage     float64\n",
      "Publication_Day                 object\n",
      "Publication_Time                object\n",
      "Guest_Popularity_percentage    float64\n",
      "Number_of_Ads                  float64\n",
      "Episode_Sentiment               object\n",
      "Listening_Time_minutes         float64\n",
      "dtype: object\n"
     ]
    }
   ],
   "source": [
    "df = pd.read_csv(INPUT_CSV)\n",
    "print(df.dtypes)"
   ]
  },
  {
   "cell_type": "markdown",
   "id": "8596cd0e6cad070e",
   "metadata": {},
   "source": [
    "# Check NaN"
   ]
  },
  {
   "cell_type": "code",
   "execution_count": 37,
   "id": "d030421424650396",
   "metadata": {
    "ExecuteTime": {
     "end_time": "2025-10-15T13:46:38.202654Z",
     "start_time": "2025-10-15T13:46:38.106219Z"
    }
   },
   "outputs": [
    {
     "data": {
      "text/plain": [
       "id                                  0\n",
       "Podcast_Name                        0\n",
       "Episode_Title                       0\n",
       "Episode_Length_minutes          87093\n",
       "Genre                               0\n",
       "Host_Popularity_percentage          0\n",
       "Publication_Day                     0\n",
       "Publication_Time                    0\n",
       "Guest_Popularity_percentage    146030\n",
       "Number_of_Ads                       1\n",
       "Episode_Sentiment                   0\n",
       "Listening_Time_minutes              0\n",
       "dtype: int64"
      ]
     },
     "execution_count": 37,
     "metadata": {},
     "output_type": "execute_result"
    }
   ],
   "source": [
    "df.isnull().sum()"
   ]
  },
  {
   "cell_type": "markdown",
   "id": "5eb1e931ce3e84eb",
   "metadata": {},
   "source": [
    "### Procentowe wartosci w brakach"
   ]
  },
  {
   "cell_type": "code",
   "execution_count": 38,
   "id": "69e0baa7a0af3b1d",
   "metadata": {
    "ExecuteTime": {
     "end_time": "2025-10-15T13:46:38.325840Z",
     "start_time": "2025-10-15T13:46:38.232167Z"
    }
   },
   "outputs": [
    {
     "data": {
      "text/plain": [
       "id                              0.000000\n",
       "Podcast_Name                    0.000000\n",
       "Episode_Title                   0.000000\n",
       "Episode_Length_minutes         11.612400\n",
       "Genre                           0.000000\n",
       "Host_Popularity_percentage      0.000000\n",
       "Publication_Day                 0.000000\n",
       "Publication_Time                0.000000\n",
       "Guest_Popularity_percentage    19.470667\n",
       "Number_of_Ads                   0.000133\n",
       "Episode_Sentiment               0.000000\n",
       "Listening_Time_minutes          0.000000\n",
       "dtype: float64"
      ]
     },
     "execution_count": 38,
     "metadata": {},
     "output_type": "execute_result"
    }
   ],
   "source": [
    "(df.isnull().sum() / len(df)) * 100"
   ]
  },
  {
   "cell_type": "markdown",
   "id": "e0bc75f92c6873f5",
   "metadata": {},
   "source": [
    "### - Drop bomba na Number_of_Ads - za mało jest\n",
    "### - Zamiana na mediane Episode_Length_minutes - odcinki mogą mieć rozkład skośny\n",
    "### - Zamiana na srednia Guest_Popularity_percentage - popularność gościa może mieć symetryczny rozkład"
   ]
  },
  {
   "cell_type": "code",
   "execution_count": 39,
   "id": "63bc2099766c0fad",
   "metadata": {
    "ExecuteTime": {
     "end_time": "2025-10-15T13:46:38.545200Z",
     "start_time": "2025-10-15T13:46:38.405378Z"
    }
   },
   "outputs": [
    {
     "name": "stdout",
     "output_type": "stream",
     "text": [
      "id                             0\n",
      "Podcast_Name                   0\n",
      "Episode_Title                  0\n",
      "Episode_Length_minutes         0\n",
      "Genre                          0\n",
      "Host_Popularity_percentage     0\n",
      "Publication_Day                0\n",
      "Publication_Time               0\n",
      "Guest_Popularity_percentage    0\n",
      "Number_of_Ads                  0\n",
      "Episode_Sentiment              0\n",
      "Listening_Time_minutes         0\n",
      "dtype: int64\n"
     ]
    }
   ],
   "source": [
    "df = df.dropna(subset=[\"Number_of_Ads\"]) \n",
    "#ej a moze zamieniac je na 0 a nie wypierdzielac? - nie bo zawyzy RMSE Xd\n",
    "\n",
    "df.fillna({\n",
    "    \"Episode_Length_minutes\": df[\"Episode_Length_minutes\"].median(),\n",
    "    \"Guest_Popularity_percentage\": df[\"Guest_Popularity_percentage\"].mean()\n",
    "}, inplace=True)\n",
    "\n",
    "print(df.isnull().sum())"
   ]
  },
  {
   "cell_type": "code",
   "execution_count": 40,
   "id": "cbb6cd992df23119",
   "metadata": {
    "ExecuteTime": {
     "end_time": "2025-10-15T13:46:38.841843Z",
     "start_time": "2025-10-15T13:46:38.823986Z"
    }
   },
   "outputs": [
    {
     "data": {
      "text/plain": [
       "Index(['Podcast_Name', 'Episode_Title', 'Genre', 'Publication_Day',\n",
       "       'Publication_Time', 'Episode_Sentiment'],\n",
       "      dtype='object')"
      ]
     },
     "execution_count": 40,
     "metadata": {},
     "output_type": "execute_result"
    }
   ],
   "source": [
    "#normalizacja typow danych\n",
    "df.select_dtypes(include=\"object\").columns\n"
   ]
  },
  {
   "cell_type": "code",
   "execution_count": 41,
   "id": "b49d084ec1be2803",
   "metadata": {
    "ExecuteTime": {
     "end_time": "2025-10-15T13:46:38.875297Z",
     "start_time": "2025-10-15T13:46:38.854651Z"
    }
   },
   "outputs": [
    {
     "name": "stdout",
     "output_type": "stream",
     "text": [
      "Podcast_Name to string\n",
      "Episode_Title to string\n",
      "Genre to string\n",
      "Publication_Day to string\n",
      "Publication_Time to string\n",
      "Episode_Sentiment to string\n"
     ]
    }
   ],
   "source": [
    "for col in df.select_dtypes(include=\"object\").columns:\n",
    "    try:\n",
    "        pd.to_numeric(df[col])\n",
    "        print(f\"{col} wygląda na numeryczną\")\n",
    "    except:\n",
    "        print(f\"{col} to string\")\n"
   ]
  },
  {
   "cell_type": "code",
   "execution_count": 42,
   "id": "43439058",
   "metadata": {},
   "outputs": [
    {
     "data": {
      "text/html": [
       "<div>\n",
       "<style scoped>\n",
       "    .dataframe tbody tr th:only-of-type {\n",
       "        vertical-align: middle;\n",
       "    }\n",
       "\n",
       "    .dataframe tbody tr th {\n",
       "        vertical-align: top;\n",
       "    }\n",
       "\n",
       "    .dataframe thead th {\n",
       "        text-align: right;\n",
       "    }\n",
       "</style>\n",
       "<table border=\"1\" class=\"dataframe\">\n",
       "  <thead>\n",
       "    <tr style=\"text-align: right;\">\n",
       "      <th></th>\n",
       "      <th>Podcast_Name</th>\n",
       "      <th>Episode_Title</th>\n",
       "      <th>Genre</th>\n",
       "      <th>Publication_Day</th>\n",
       "      <th>Publication_Time</th>\n",
       "      <th>Episode_Sentiment</th>\n",
       "    </tr>\n",
       "  </thead>\n",
       "  <tbody>\n",
       "    <tr>\n",
       "      <th>0</th>\n",
       "      <td>Mystery Matters</td>\n",
       "      <td>Episode 98</td>\n",
       "      <td>True Crime</td>\n",
       "      <td>Thursday</td>\n",
       "      <td>Night</td>\n",
       "      <td>Positive</td>\n",
       "    </tr>\n",
       "    <tr>\n",
       "      <th>1</th>\n",
       "      <td>Joke Junction</td>\n",
       "      <td>Episode 26</td>\n",
       "      <td>Comedy</td>\n",
       "      <td>Saturday</td>\n",
       "      <td>Afternoon</td>\n",
       "      <td>Negative</td>\n",
       "    </tr>\n",
       "    <tr>\n",
       "      <th>2</th>\n",
       "      <td>Study Sessions</td>\n",
       "      <td>Episode 16</td>\n",
       "      <td>Education</td>\n",
       "      <td>Tuesday</td>\n",
       "      <td>Evening</td>\n",
       "      <td>Negative</td>\n",
       "    </tr>\n",
       "    <tr>\n",
       "      <th>3</th>\n",
       "      <td>Digital Digest</td>\n",
       "      <td>Episode 45</td>\n",
       "      <td>Technology</td>\n",
       "      <td>Monday</td>\n",
       "      <td>Morning</td>\n",
       "      <td>Positive</td>\n",
       "    </tr>\n",
       "    <tr>\n",
       "      <th>4</th>\n",
       "      <td>Mind &amp; Body</td>\n",
       "      <td>Episode 86</td>\n",
       "      <td>Health</td>\n",
       "      <td>Monday</td>\n",
       "      <td>Afternoon</td>\n",
       "      <td>Neutral</td>\n",
       "    </tr>\n",
       "    <tr>\n",
       "      <th>...</th>\n",
       "      <td>...</td>\n",
       "      <td>...</td>\n",
       "      <td>...</td>\n",
       "      <td>...</td>\n",
       "      <td>...</td>\n",
       "      <td>...</td>\n",
       "    </tr>\n",
       "    <tr>\n",
       "      <th>749995</th>\n",
       "      <td>Learning Lab</td>\n",
       "      <td>Episode 25</td>\n",
       "      <td>Education</td>\n",
       "      <td>Saturday</td>\n",
       "      <td>Morning</td>\n",
       "      <td>Negative</td>\n",
       "    </tr>\n",
       "    <tr>\n",
       "      <th>749996</th>\n",
       "      <td>Business Briefs</td>\n",
       "      <td>Episode 21</td>\n",
       "      <td>Business</td>\n",
       "      <td>Saturday</td>\n",
       "      <td>Night</td>\n",
       "      <td>Neutral</td>\n",
       "    </tr>\n",
       "    <tr>\n",
       "      <th>749997</th>\n",
       "      <td>Lifestyle Lounge</td>\n",
       "      <td>Episode 51</td>\n",
       "      <td>Lifestyle</td>\n",
       "      <td>Thursday</td>\n",
       "      <td>Morning</td>\n",
       "      <td>Negative</td>\n",
       "    </tr>\n",
       "    <tr>\n",
       "      <th>749998</th>\n",
       "      <td>Style Guide</td>\n",
       "      <td>Episode 47</td>\n",
       "      <td>Lifestyle</td>\n",
       "      <td>Thursday</td>\n",
       "      <td>Morning</td>\n",
       "      <td>Negative</td>\n",
       "    </tr>\n",
       "    <tr>\n",
       "      <th>749999</th>\n",
       "      <td>Sports Central</td>\n",
       "      <td>Episode 99</td>\n",
       "      <td>Sports</td>\n",
       "      <td>Saturday</td>\n",
       "      <td>Night</td>\n",
       "      <td>Neutral</td>\n",
       "    </tr>\n",
       "  </tbody>\n",
       "</table>\n",
       "<p>749999 rows × 6 columns</p>\n",
       "</div>"
      ],
      "text/plain": [
       "            Podcast_Name Episode_Title       Genre Publication_Day  \\\n",
       "0        Mystery Matters    Episode 98  True Crime        Thursday   \n",
       "1          Joke Junction    Episode 26      Comedy        Saturday   \n",
       "2         Study Sessions    Episode 16   Education         Tuesday   \n",
       "3         Digital Digest    Episode 45  Technology          Monday   \n",
       "4            Mind & Body    Episode 86      Health          Monday   \n",
       "...                  ...           ...         ...             ...   \n",
       "749995      Learning Lab    Episode 25   Education        Saturday   \n",
       "749996   Business Briefs    Episode 21    Business        Saturday   \n",
       "749997  Lifestyle Lounge    Episode 51   Lifestyle        Thursday   \n",
       "749998       Style Guide    Episode 47   Lifestyle        Thursday   \n",
       "749999    Sports Central    Episode 99      Sports        Saturday   \n",
       "\n",
       "       Publication_Time Episode_Sentiment  \n",
       "0                 Night          Positive  \n",
       "1             Afternoon          Negative  \n",
       "2               Evening          Negative  \n",
       "3               Morning          Positive  \n",
       "4             Afternoon           Neutral  \n",
       "...                 ...               ...  \n",
       "749995          Morning          Negative  \n",
       "749996            Night           Neutral  \n",
       "749997          Morning          Negative  \n",
       "749998          Morning          Negative  \n",
       "749999            Night           Neutral  \n",
       "\n",
       "[749999 rows x 6 columns]"
      ]
     },
     "execution_count": 42,
     "metadata": {},
     "output_type": "execute_result"
    }
   ],
   "source": [
    "#dobra ale jak wygladaja wiersze z typem danych object?\n",
    "\n",
    "object_cols = df.select_dtypes(include=[\"object\"]).columns\n",
    "\n",
    "df[object_cols]"
   ]
  },
  {
   "cell_type": "code",
   "execution_count": 43,
   "id": "27bbefdf0d87d3de",
   "metadata": {
    "ExecuteTime": {
     "end_time": "2025-10-15T13:46:39.636292Z",
     "start_time": "2025-10-15T13:46:38.884397Z"
    }
   },
   "outputs": [],
   "source": [
    "# for col in df.select_dtypes(include=[\"object\", \"string\"]).columns:\n",
    "#     df[col] = df[col].str.upper().str.strip()\n"
   ]
  },
  {
   "cell_type": "code",
   "execution_count": 44,
   "id": "4637fee3",
   "metadata": {},
   "outputs": [
    {
     "data": {
      "text/plain": [
       "id                               int64\n",
       "Podcast_Name                    object\n",
       "Episode_Title                   object\n",
       "Episode_Length_minutes         float64\n",
       "Genre                           object\n",
       "Host_Popularity_percentage     float64\n",
       "Publication_Day                 object\n",
       "Publication_Time                object\n",
       "Guest_Popularity_percentage    float64\n",
       "Number_of_Ads                  float64\n",
       "Episode_Sentiment               object\n",
       "Listening_Time_minutes         float64\n",
       "dtype: object"
      ]
     },
     "execution_count": 44,
     "metadata": {},
     "output_type": "execute_result"
    }
   ],
   "source": [
    "#jak z typami danych w dataframe'ie?\n",
    "\n",
    "df.dtypes"
   ]
  },
  {
   "cell_type": "code",
   "execution_count": 45,
   "id": "5d104da2",
   "metadata": {},
   "outputs": [],
   "source": [
    "# autogluon lubi stringi, nie object, zamieniamy ez\n",
    "\n",
    "for col in df.select_dtypes(include=[\"object\"]).columns:\n",
    "    df[col] = df[col].astype(\"string\")"
   ]
  },
  {
   "cell_type": "code",
   "execution_count": 46,
   "id": "102dcf26",
   "metadata": {},
   "outputs": [
    {
     "data": {
      "text/plain": [
       "id                                      int64\n",
       "Podcast_Name                   string[python]\n",
       "Episode_Title                  string[python]\n",
       "Episode_Length_minutes                float64\n",
       "Genre                          string[python]\n",
       "Host_Popularity_percentage            float64\n",
       "Publication_Day                string[python]\n",
       "Publication_Time               string[python]\n",
       "Guest_Popularity_percentage           float64\n",
       "Number_of_Ads                         float64\n",
       "Episode_Sentiment              string[python]\n",
       "Listening_Time_minutes                float64\n",
       "dtype: object"
      ]
     },
     "execution_count": 46,
     "metadata": {},
     "output_type": "execute_result"
    }
   ],
   "source": [
    "df.dtypes"
   ]
  },
  {
   "cell_type": "code",
   "execution_count": 47,
   "id": "56eef6578867bfad",
   "metadata": {
    "ExecuteTime": {
     "end_time": "2025-10-15T13:54:56.709826Z",
     "start_time": "2025-10-15T13:54:56.033421Z"
    }
   },
   "outputs": [],
   "source": [
    "# # df.replace([\"\", \"NA\", \"N/A\", \"None\", \"?\", \"nan\"], pd.NA, inplace=True)\n",
    "# # df.isna().sum()\n",
    "\n",
    "# # W kolumnach kategorycznych lepiej zamienić NA na \"MISSING\", bo wtedy model może rozpoznać brakujące dane jako osobną, informacyjną kategorię zamiast je ignorować lub traktować jako null.\n",
    "# # np random forest robi to z automatu ale nwm jak reszta tho\n",
    "\n",
    "# missing_indicators = [\"\", \"NA\", \"N/A\", \"None\", \"?\", \"nan\"]\n",
    "# print(\"Liczba wartości do zamiany na 'MISSING' w każdej kolumnie:\")\n",
    "# for col in df.columns:\n",
    "#     count = df[col].isin(missing_indicators).sum()\n",
    "#     print(f\"{col}: {count}\")\n",
    "# df.replace(missing_indicators, \"Missing\", inplace=True)"
   ]
  },
  {
   "cell_type": "markdown",
   "id": "b82462f8c585d9ad",
   "metadata": {},
   "source": [
    "### Oznaczenie flagą"
   ]
  },
  {
   "cell_type": "code",
   "execution_count": 48,
   "id": "4bb34c7bcd333ce2",
   "metadata": {
    "ExecuteTime": {
     "end_time": "2025-10-15T13:51:51.333821Z",
     "start_time": "2025-10-15T13:51:51.141035Z"
    }
   },
   "outputs": [],
   "source": [
    "# # Oznacza wszystkie wartości większe od 0 w nowej kolumnie jako 1\n",
    "# # Przyda się później przy tym o czym napisałeś (że to niekoniecznie musi być błąd danych)\n",
    "# df[\"is_listened\"] = (df[\"Listening_Time_minutes\"] > 0).astype(int)\n",
    "# df_regression = df[df[\"is_listened\"] == 1]\n"
   ]
  },
  {
   "cell_type": "markdown",
   "id": "ecee9c29fa851004",
   "metadata": {},
   "source": [
    "### Duplikaty"
   ]
  },
  {
   "cell_type": "code",
   "execution_count": 49,
   "id": "7d2da4efece3cf4",
   "metadata": {
    "ExecuteTime": {
     "end_time": "2025-10-15T13:46:40.711957Z",
     "start_time": "2025-10-15T13:46:39.928496Z"
    }
   },
   "outputs": [
    {
     "name": "stdout",
     "output_type": "stream",
     "text": [
      "Duplikaty całkowite: 0\n",
      "Powtórzenia z tymi samymi X: 0\n"
     ]
    }
   ],
   "source": [
    "# Identyczne\n",
    "dup_all = df.duplicated()\n",
    "print(f\"Duplikaty całkowite: {dup_all.sum()}\")\n",
    "df = df.drop_duplicates()\n",
    "\n",
    "# Duplikaty wzgledem X (bez Y)\n",
    "features = [c for c in df.columns if c != \"Listening_Time_minutes\"]\n",
    "dup_same_x = df.duplicated(subset=features, keep=False)\n",
    "print(f\"Powtórzenia z tymi samymi X: {dup_same_x.sum()}\")\n"
   ]
  },
  {
   "cell_type": "markdown",
   "id": "ff9858fe896a134a",
   "metadata": {},
   "source": [
    "### Wartości w których nie odsluchano nic oznaczone 0 i te słuchane oznaczone 1"
   ]
  },
  {
   "cell_type": "code",
   "execution_count": 50,
   "id": "92da79f0ec2186a",
   "metadata": {
    "ExecuteTime": {
     "end_time": "2025-10-15T13:46:40.794888Z",
     "start_time": "2025-10-15T13:46:40.789589Z"
    }
   },
   "outputs": [
    {
     "ename": "KeyError",
     "evalue": "'is_listened'",
     "output_type": "error",
     "traceback": [
      "\u001b[1;31m---------------------------------------------------------------------------\u001b[0m",
      "\u001b[1;31mKeyError\u001b[0m                                  Traceback (most recent call last)",
      "File \u001b[1;32mc:\\Users\\Admin\\AppData\\Local\\Programs\\Python\\Python310\\lib\\site-packages\\pandas\\core\\indexes\\base.py:3812\u001b[0m, in \u001b[0;36mIndex.get_loc\u001b[1;34m(self, key)\u001b[0m\n\u001b[0;32m   3811\u001b[0m \u001b[38;5;28;01mtry\u001b[39;00m:\n\u001b[1;32m-> 3812\u001b[0m     \u001b[38;5;28;01mreturn\u001b[39;00m \u001b[38;5;28;43mself\u001b[39;49m\u001b[38;5;241;43m.\u001b[39;49m\u001b[43m_engine\u001b[49m\u001b[38;5;241;43m.\u001b[39;49m\u001b[43mget_loc\u001b[49m\u001b[43m(\u001b[49m\u001b[43mcasted_key\u001b[49m\u001b[43m)\u001b[49m\n\u001b[0;32m   3813\u001b[0m \u001b[38;5;28;01mexcept\u001b[39;00m \u001b[38;5;167;01mKeyError\u001b[39;00m \u001b[38;5;28;01mas\u001b[39;00m err:\n",
      "File \u001b[1;32mpandas/_libs/index.pyx:167\u001b[0m, in \u001b[0;36mpandas._libs.index.IndexEngine.get_loc\u001b[1;34m()\u001b[0m\n",
      "File \u001b[1;32mpandas/_libs/index.pyx:196\u001b[0m, in \u001b[0;36mpandas._libs.index.IndexEngine.get_loc\u001b[1;34m()\u001b[0m\n",
      "File \u001b[1;32mpandas/_libs/hashtable_class_helper.pxi:7088\u001b[0m, in \u001b[0;36mpandas._libs.hashtable.PyObjectHashTable.get_item\u001b[1;34m()\u001b[0m\n",
      "File \u001b[1;32mpandas/_libs/hashtable_class_helper.pxi:7096\u001b[0m, in \u001b[0;36mpandas._libs.hashtable.PyObjectHashTable.get_item\u001b[1;34m()\u001b[0m\n",
      "\u001b[1;31mKeyError\u001b[0m: 'is_listened'",
      "\nThe above exception was the direct cause of the following exception:\n",
      "\u001b[1;31mKeyError\u001b[0m                                  Traceback (most recent call last)",
      "Cell \u001b[1;32mIn[50], line 1\u001b[0m\n\u001b[1;32m----> 1\u001b[0m \u001b[43mdf\u001b[49m\u001b[43m[\u001b[49m\u001b[38;5;124;43m\"\u001b[39;49m\u001b[38;5;124;43mis_listened\u001b[39;49m\u001b[38;5;124;43m\"\u001b[39;49m\u001b[43m]\u001b[49m\u001b[38;5;241m.\u001b[39mvalue_counts(dropna\u001b[38;5;241m=\u001b[39m\u001b[38;5;28;01mFalse\u001b[39;00m)\n",
      "File \u001b[1;32mc:\\Users\\Admin\\AppData\\Local\\Programs\\Python\\Python310\\lib\\site-packages\\pandas\\core\\frame.py:4107\u001b[0m, in \u001b[0;36mDataFrame.__getitem__\u001b[1;34m(self, key)\u001b[0m\n\u001b[0;32m   4105\u001b[0m \u001b[38;5;28;01mif\u001b[39;00m \u001b[38;5;28mself\u001b[39m\u001b[38;5;241m.\u001b[39mcolumns\u001b[38;5;241m.\u001b[39mnlevels \u001b[38;5;241m>\u001b[39m \u001b[38;5;241m1\u001b[39m:\n\u001b[0;32m   4106\u001b[0m     \u001b[38;5;28;01mreturn\u001b[39;00m \u001b[38;5;28mself\u001b[39m\u001b[38;5;241m.\u001b[39m_getitem_multilevel(key)\n\u001b[1;32m-> 4107\u001b[0m indexer \u001b[38;5;241m=\u001b[39m \u001b[38;5;28;43mself\u001b[39;49m\u001b[38;5;241;43m.\u001b[39;49m\u001b[43mcolumns\u001b[49m\u001b[38;5;241;43m.\u001b[39;49m\u001b[43mget_loc\u001b[49m\u001b[43m(\u001b[49m\u001b[43mkey\u001b[49m\u001b[43m)\u001b[49m\n\u001b[0;32m   4108\u001b[0m \u001b[38;5;28;01mif\u001b[39;00m is_integer(indexer):\n\u001b[0;32m   4109\u001b[0m     indexer \u001b[38;5;241m=\u001b[39m [indexer]\n",
      "File \u001b[1;32mc:\\Users\\Admin\\AppData\\Local\\Programs\\Python\\Python310\\lib\\site-packages\\pandas\\core\\indexes\\base.py:3819\u001b[0m, in \u001b[0;36mIndex.get_loc\u001b[1;34m(self, key)\u001b[0m\n\u001b[0;32m   3814\u001b[0m     \u001b[38;5;28;01mif\u001b[39;00m \u001b[38;5;28misinstance\u001b[39m(casted_key, \u001b[38;5;28mslice\u001b[39m) \u001b[38;5;129;01mor\u001b[39;00m (\n\u001b[0;32m   3815\u001b[0m         \u001b[38;5;28misinstance\u001b[39m(casted_key, abc\u001b[38;5;241m.\u001b[39mIterable)\n\u001b[0;32m   3816\u001b[0m         \u001b[38;5;129;01mand\u001b[39;00m \u001b[38;5;28many\u001b[39m(\u001b[38;5;28misinstance\u001b[39m(x, \u001b[38;5;28mslice\u001b[39m) \u001b[38;5;28;01mfor\u001b[39;00m x \u001b[38;5;129;01min\u001b[39;00m casted_key)\n\u001b[0;32m   3817\u001b[0m     ):\n\u001b[0;32m   3818\u001b[0m         \u001b[38;5;28;01mraise\u001b[39;00m InvalidIndexError(key)\n\u001b[1;32m-> 3819\u001b[0m     \u001b[38;5;28;01mraise\u001b[39;00m \u001b[38;5;167;01mKeyError\u001b[39;00m(key) \u001b[38;5;28;01mfrom\u001b[39;00m\u001b[38;5;250m \u001b[39m\u001b[38;5;21;01merr\u001b[39;00m\n\u001b[0;32m   3820\u001b[0m \u001b[38;5;28;01mexcept\u001b[39;00m \u001b[38;5;167;01mTypeError\u001b[39;00m:\n\u001b[0;32m   3821\u001b[0m     \u001b[38;5;66;03m# If we have a listlike key, _check_indexing_error will raise\u001b[39;00m\n\u001b[0;32m   3822\u001b[0m     \u001b[38;5;66;03m#  InvalidIndexError. Otherwise we fall through and re-raise\u001b[39;00m\n\u001b[0;32m   3823\u001b[0m     \u001b[38;5;66;03m#  the TypeError.\u001b[39;00m\n\u001b[0;32m   3824\u001b[0m     \u001b[38;5;28mself\u001b[39m\u001b[38;5;241m.\u001b[39m_check_indexing_error(key)\n",
      "\u001b[1;31mKeyError\u001b[0m: 'is_listened'"
     ]
    }
   ],
   "source": [
    "df[\"is_listened\"].value_counts(dropna=False)\n"
   ]
  },
  {
   "cell_type": "code",
   "execution_count": 51,
   "id": "e1d62ac2b400b55e",
   "metadata": {
    "ExecuteTime": {
     "end_time": "2025-10-15T13:59:51.969467Z",
     "start_time": "2025-10-15T13:59:51.879891Z"
    }
   },
   "outputs": [
    {
     "ename": "KeyError",
     "evalue": "'is_listened'",
     "output_type": "error",
     "traceback": [
      "\u001b[1;31m---------------------------------------------------------------------------\u001b[0m",
      "\u001b[1;31mKeyError\u001b[0m                                  Traceback (most recent call last)",
      "File \u001b[1;32mc:\\Users\\Admin\\AppData\\Local\\Programs\\Python\\Python310\\lib\\site-packages\\pandas\\core\\indexes\\base.py:3812\u001b[0m, in \u001b[0;36mIndex.get_loc\u001b[1;34m(self, key)\u001b[0m\n\u001b[0;32m   3811\u001b[0m \u001b[38;5;28;01mtry\u001b[39;00m:\n\u001b[1;32m-> 3812\u001b[0m     \u001b[38;5;28;01mreturn\u001b[39;00m \u001b[38;5;28;43mself\u001b[39;49m\u001b[38;5;241;43m.\u001b[39;49m\u001b[43m_engine\u001b[49m\u001b[38;5;241;43m.\u001b[39;49m\u001b[43mget_loc\u001b[49m\u001b[43m(\u001b[49m\u001b[43mcasted_key\u001b[49m\u001b[43m)\u001b[49m\n\u001b[0;32m   3813\u001b[0m \u001b[38;5;28;01mexcept\u001b[39;00m \u001b[38;5;167;01mKeyError\u001b[39;00m \u001b[38;5;28;01mas\u001b[39;00m err:\n",
      "File \u001b[1;32mpandas/_libs/index.pyx:167\u001b[0m, in \u001b[0;36mpandas._libs.index.IndexEngine.get_loc\u001b[1;34m()\u001b[0m\n",
      "File \u001b[1;32mpandas/_libs/index.pyx:196\u001b[0m, in \u001b[0;36mpandas._libs.index.IndexEngine.get_loc\u001b[1;34m()\u001b[0m\n",
      "File \u001b[1;32mpandas/_libs/hashtable_class_helper.pxi:7088\u001b[0m, in \u001b[0;36mpandas._libs.hashtable.PyObjectHashTable.get_item\u001b[1;34m()\u001b[0m\n",
      "File \u001b[1;32mpandas/_libs/hashtable_class_helper.pxi:7096\u001b[0m, in \u001b[0;36mpandas._libs.hashtable.PyObjectHashTable.get_item\u001b[1;34m()\u001b[0m\n",
      "\u001b[1;31mKeyError\u001b[0m: 'is_listened'",
      "\nThe above exception was the direct cause of the following exception:\n",
      "\u001b[1;31mKeyError\u001b[0m                                  Traceback (most recent call last)",
      "Cell \u001b[1;32mIn[51], line 1\u001b[0m\n\u001b[1;32m----> 1\u001b[0m df[\u001b[43mdf\u001b[49m\u001b[43m[\u001b[49m\u001b[38;5;124;43m\"\u001b[39;49m\u001b[38;5;124;43mis_listened\u001b[39;49m\u001b[38;5;124;43m\"\u001b[39;49m\u001b[43m]\u001b[49m \u001b[38;5;241m!=\u001b[39m \u001b[38;5;241m1\u001b[39m]\n",
      "File \u001b[1;32mc:\\Users\\Admin\\AppData\\Local\\Programs\\Python\\Python310\\lib\\site-packages\\pandas\\core\\frame.py:4107\u001b[0m, in \u001b[0;36mDataFrame.__getitem__\u001b[1;34m(self, key)\u001b[0m\n\u001b[0;32m   4105\u001b[0m \u001b[38;5;28;01mif\u001b[39;00m \u001b[38;5;28mself\u001b[39m\u001b[38;5;241m.\u001b[39mcolumns\u001b[38;5;241m.\u001b[39mnlevels \u001b[38;5;241m>\u001b[39m \u001b[38;5;241m1\u001b[39m:\n\u001b[0;32m   4106\u001b[0m     \u001b[38;5;28;01mreturn\u001b[39;00m \u001b[38;5;28mself\u001b[39m\u001b[38;5;241m.\u001b[39m_getitem_multilevel(key)\n\u001b[1;32m-> 4107\u001b[0m indexer \u001b[38;5;241m=\u001b[39m \u001b[38;5;28;43mself\u001b[39;49m\u001b[38;5;241;43m.\u001b[39;49m\u001b[43mcolumns\u001b[49m\u001b[38;5;241;43m.\u001b[39;49m\u001b[43mget_loc\u001b[49m\u001b[43m(\u001b[49m\u001b[43mkey\u001b[49m\u001b[43m)\u001b[49m\n\u001b[0;32m   4108\u001b[0m \u001b[38;5;28;01mif\u001b[39;00m is_integer(indexer):\n\u001b[0;32m   4109\u001b[0m     indexer \u001b[38;5;241m=\u001b[39m [indexer]\n",
      "File \u001b[1;32mc:\\Users\\Admin\\AppData\\Local\\Programs\\Python\\Python310\\lib\\site-packages\\pandas\\core\\indexes\\base.py:3819\u001b[0m, in \u001b[0;36mIndex.get_loc\u001b[1;34m(self, key)\u001b[0m\n\u001b[0;32m   3814\u001b[0m     \u001b[38;5;28;01mif\u001b[39;00m \u001b[38;5;28misinstance\u001b[39m(casted_key, \u001b[38;5;28mslice\u001b[39m) \u001b[38;5;129;01mor\u001b[39;00m (\n\u001b[0;32m   3815\u001b[0m         \u001b[38;5;28misinstance\u001b[39m(casted_key, abc\u001b[38;5;241m.\u001b[39mIterable)\n\u001b[0;32m   3816\u001b[0m         \u001b[38;5;129;01mand\u001b[39;00m \u001b[38;5;28many\u001b[39m(\u001b[38;5;28misinstance\u001b[39m(x, \u001b[38;5;28mslice\u001b[39m) \u001b[38;5;28;01mfor\u001b[39;00m x \u001b[38;5;129;01min\u001b[39;00m casted_key)\n\u001b[0;32m   3817\u001b[0m     ):\n\u001b[0;32m   3818\u001b[0m         \u001b[38;5;28;01mraise\u001b[39;00m InvalidIndexError(key)\n\u001b[1;32m-> 3819\u001b[0m     \u001b[38;5;28;01mraise\u001b[39;00m \u001b[38;5;167;01mKeyError\u001b[39;00m(key) \u001b[38;5;28;01mfrom\u001b[39;00m\u001b[38;5;250m \u001b[39m\u001b[38;5;21;01merr\u001b[39;00m\n\u001b[0;32m   3820\u001b[0m \u001b[38;5;28;01mexcept\u001b[39;00m \u001b[38;5;167;01mTypeError\u001b[39;00m:\n\u001b[0;32m   3821\u001b[0m     \u001b[38;5;66;03m# If we have a listlike key, _check_indexing_error will raise\u001b[39;00m\n\u001b[0;32m   3822\u001b[0m     \u001b[38;5;66;03m#  InvalidIndexError. Otherwise we fall through and re-raise\u001b[39;00m\n\u001b[0;32m   3823\u001b[0m     \u001b[38;5;66;03m#  the TypeError.\u001b[39;00m\n\u001b[0;32m   3824\u001b[0m     \u001b[38;5;28mself\u001b[39m\u001b[38;5;241m.\u001b[39m_check_indexing_error(key)\n",
      "\u001b[1;31mKeyError\u001b[0m: 'is_listened'"
     ]
    }
   ],
   "source": [
    "df[df[\"is_listened\"] != 1]\n"
   ]
  },
  {
   "cell_type": "markdown",
   "id": "21cbda8c",
   "metadata": {},
   "source": [
    "Trochę dziwny jest ten dataset, bardzo mało czyszczenia"
   ]
  },
  {
   "cell_type": "code",
   "execution_count": 52,
   "id": "3d450d84",
   "metadata": {},
   "outputs": [
    {
     "data": {
      "image/png": "[encoded data removed]",
      "text/plain": [
       "<Figure size 1500x600 with 1 Axes>"
      ]
     },
     "metadata": {},
     "output_type": "display_data"
    }
   ],
   "source": [
    "df\n",
    "# czy są jakies outliery w Episode_Length_minutes, Host_Popularity_percentage, Guest_Popularity_percentage, Number_of_Ads, Listening_Time_minutes?\n",
    "\n",
    "# narysuję fajny boxplot ez\n",
    "\n",
    "import matplotlib.pyplot as plt\n",
    "\n",
    "cols = [\n",
    "    \"Episode_Length_minutes\",\n",
    "    \"Host_Popularity_percentage\",\n",
    "    \"Guest_Popularity_percentage\",\n",
    "    \"Number_of_Ads\",\n",
    "    \"Listening_Time_minutes\"\n",
    "]\n",
    "\n",
    "plt.figure(figsize=(15, 6))\n",
    "df[cols].boxplot()\n",
    "plt.title(\"Boxplot of key numerical columns\")\n",
    "plt.ylabel(\"Value\")\n",
    "plt.xticks(rotation=30)\n",
    "plt.show()"
   ]
  },
  {
   "cell_type": "code",
   "execution_count": 53,
   "id": "c4e716aa",
   "metadata": {},
   "outputs": [
    {
     "name": "stdout",
     "output_type": "stream",
     "text": [
      "Episode_Length_minutes: outliers below -36.92 (min=325.24, centyl=100.00%) or above 166.65 (max=325.24, centyl=100.00%)\n",
      "Host_Popularity_percentage: brak outlierów wg IQR\n",
      "Guest_Popularity_percentage: brak outlierów wg IQR\n",
      "Number_of_Ads: outliers below -3.00 (min=12.0, centyl=100.00%) or above 5.00 (max=103.91, centyl=100.00%)\n",
      "Listening_Time_minutes: brak outlierów wg IQR\n"
     ]
    }
   ],
   "source": [
    "# na jakim percentile leżą te outliery?\n",
    "\n",
    "for col in cols:\n",
    "    q1 = df[col].quantile(0.25)\n",
    "    q3 = df[col].quantile(0.75)\n",
    "    iqr = q3 - q1\n",
    "    lower = q1 - 1.5 * iqr\n",
    "    upper = q3 + 1.5 * iqr\n",
    "    outliers = df[(df[col] < lower) | (df[col] > upper)][col]\n",
    "    if not outliers.empty:\n",
    "        min_outlier = outliers.min()\n",
    "        max_outlier = outliers.max()\n",
    "        min_percentile = (df[col] < min_outlier).mean() * 100\n",
    "        max_percentile = (df[col] < max_outlier).mean() * 100\n",
    "        print(f\"{col}: outliers below {lower:.2f} (min={min_outlier}, centyl={min_percentile:.2f}%) \"\n",
    "              f\"or above {upper:.2f} (max={max_outlier}, centyl={max_percentile:.2f}%)\")\n",
    "    else:\n",
    "        print(f\"{col}: brak outlierów wg IQR\")"
   ]
  },
  {
   "cell_type": "code",
   "execution_count": 54,
   "id": "49191042",
   "metadata": {},
   "outputs": [
    {
     "name": "stdout",
     "output_type": "stream",
     "text": [
      "Outliery Episode_Length_minutes:\n",
      "101637    325.24\n",
      "Name: Episode_Length_minutes, dtype: float64\n",
      "\n",
      "Outliery Number_of_Ads:\n",
      "211159     53.37\n",
      "283606    103.91\n",
      "436577    103.00\n",
      "495919     53.42\n",
      "537705    103.75\n",
      "567235     12.00\n",
      "602553    103.25\n",
      "672139    103.25\n",
      "683147    103.88\n",
      "Name: Number_of_Ads, dtype: float64\n"
     ]
    }
   ],
   "source": [
    "# Wyświetlenie outlierów dla wskazanych kolumn\n",
    "\n",
    "# Episode_Length_minutes outliers\n",
    "print(\"Outliery Episode_Length_minutes:\")\n",
    "q1 = df[\"Episode_Length_minutes\"].quantile(0.25)\n",
    "q3 = df[\"Episode_Length_minutes\"].quantile(0.75)\n",
    "iqr = q3 - q1\n",
    "lower = q1 - 1.5 * iqr\n",
    "upper = q3 + 1.5 * iqr\n",
    "print(df[(df[\"Episode_Length_minutes\"] < lower) | (df[\"Episode_Length_minutes\"] > upper)][\"Episode_Length_minutes\"])\n",
    "\n",
    "# Number_of_Ads outliers\n",
    "print(\"\\nOutliery Number_of_Ads:\")\n",
    "q1 = df[\"Number_of_Ads\"].quantile(0.25)\n",
    "q3 = df[\"Number_of_Ads\"].quantile(0.75)\n",
    "iqr = q3 - q1\n",
    "lower = q1 - 1.5 * iqr\n",
    "upper = q3 + 1.5 * iqr\n",
    "print(df[(df[\"Number_of_Ads\"] < lower) | (df[\"Number_of_Ads\"] > upper)][\"Number_of_Ads\"])"
   ]
  },
  {
   "cell_type": "code",
   "execution_count": 55,
   "id": "c02a5ad3",
   "metadata": {},
   "outputs": [
    {
     "name": "stdout",
     "output_type": "stream",
     "text": [
      "Number of ads median: 1.0\n",
      "Episode Length minutes median: 63.84\n"
     ]
    }
   ],
   "source": [
    "median_num_ads = df[\"Number_of_Ads\"].median()\n",
    "print(f\"Number of ads median: {median_num_ads}\")\n",
    "\n",
    "median_ep_len = df[\"Episode_Length_minutes\"].median()\n",
    "print(f\"Episode Length minutes median: {median_ep_len}\")\n"
   ]
  },
  {
   "cell_type": "code",
   "execution_count": 56,
   "id": "f7f02e8c",
   "metadata": {},
   "outputs": [
    {
     "name": "stdout",
     "output_type": "stream",
     "text": [
      "Liczba outlierów do usunięcia: 10\n",
      "Liczba wierszy po usunięciu outlierów: 749989\n"
     ]
    }
   ],
   "source": [
    "# ej ja bym wywalil te outliery, jakies sus to jest, moze teorytycznie zawyzac RMSE modelu\n",
    "\n",
    "# --- Definicja granic dla Episode_Length_minutes ---\n",
    "ep_q1 = df[\"Episode_Length_minutes\"].quantile(0.25)\n",
    "ep_q3 = df[\"Episode_Length_minutes\"].quantile(0.75)\n",
    "ep_iqr = ep_q3 - ep_q1\n",
    "ep_lower = ep_q1 - 1.5 * ep_iqr\n",
    "ep_upper = ep_q3 + 1.5 * ep_iqr\n",
    "\n",
    "# --- Definicja granic dla Number_of_Ads ---\n",
    "ads_q1 = df[\"Number_of_Ads\"].quantile(0.25)\n",
    "ads_q3 = df[\"Number_of_Ads\"].quantile(0.75)\n",
    "ads_iqr = ads_q3 - ads_q1\n",
    "ads_lower = ads_q1 - 1.5 * ads_iqr\n",
    "ads_upper = ads_q3 + 1.5 * ads_iqr\n",
    "\n",
    "# --- Tworzenie maski outlierów ---\n",
    "outlier_mask = (\n",
    "    (df[\"Episode_Length_minutes\"] < ep_lower) | (df[\"Episode_Length_minutes\"] > ep_upper) |\n",
    "    (df[\"Number_of_Ads\"] < ads_lower) | (df[\"Number_of_Ads\"] > ads_upper)\n",
    ")\n",
    "outlier_mask = outlier_mask.fillna(False)  # zabezpieczenie przed NaN\n",
    "\n",
    "print(f\"Liczba outlierów do usunięcia: {outlier_mask.sum()}\")\n",
    "\n",
    "# --- Usunięcie outlierów ---\n",
    "df_cleaned = df[~outlier_mask].copy()\n",
    "print(f\"Liczba wierszy po usunięciu outlierów: {len(df_cleaned)}\")"
   ]
  },
  {
   "cell_type": "code",
   "execution_count": 58,
   "id": "e6ad446d",
   "metadata": {},
   "outputs": [],
   "source": [
    "# zapisanie wyczyszczonego dataframu\n",
    "df_cleaned.to_csv(\"data/train_cleaned.csv\", index = False) #zapisywalem wczesniej wersje z outlierami Xd"
   ]
  }
 ],
 "metadata": {
  "kernelspec": {
   "display_name": "Python 3",
   "language": "python",
   "name": "python3"
  },
  "language_info": {
   "codemirror_mode": {
    "name": "ipython",
    "version": 3
   },
   "file_extension": ".py",
   "mimetype": "text/x-python",
   "name": "python",
   "nbconvert_exporter": "python",
   "pygments_lexer": "ipython3",
   "version": "3.10.11"
  }
 },
 "nbformat": 4,
 "nbformat_minor": 5
}
